{
 "cells": [
  {
   "cell_type": "markdown",
   "id": "macro-avatar",
   "metadata": {},
   "source": [
    "# Interactive visualization with `bokeh`\n",
    "\n",
    "Let's use the [bokeh](https://bokeh.org/) visualization library to explore the spectra."
   ]
  },
  {
   "cell_type": "code",
   "execution_count": null,
   "id": "successful-africa",
   "metadata": {},
   "outputs": [],
   "source": [
    "import numpy as np\n",
    "import pandas as pd\n",
    "import glob\n",
    "import bokeh"
   ]
  },
  {
   "cell_type": "code",
   "execution_count": null,
   "id": "facial-jimmy",
   "metadata": {},
   "outputs": [],
   "source": [
    "bokeh.__version__"
   ]
  },
  {
   "cell_type": "markdown",
   "id": "strategic-denver",
   "metadata": {},
   "source": [
    "Read in the model spectra same as before:"
   ]
  },
  {
   "cell_type": "code",
   "execution_count": null,
   "id": "synthetic-recovery",
   "metadata": {},
   "outputs": [],
   "source": [
    "df_native = pd.read_csv('../models/spectra/sp_t1000g178nc_m0.0.gz', \n",
    "                        skiprows=[0, 1], \n",
    "                        delim_whitespace=True, \n",
    "                        compression='gzip',\n",
    "                        names=['wavelength', 'flux']\n",
    "                       ).sort_values('wavelength').reset_index(drop=True)\n",
    "\n",
    "nir_mask = (df_native.wavelength > 1.2) & (df_native.wavelength < 1.35)\n",
    "\n",
    "## decimate the data:\n",
    "downsample = 5 \n",
    "df_nir = df_native[nir_mask].rolling(2, win_type='gaussian').mean(std=3).iloc[::downsample, :]"
   ]
  },
  {
   "cell_type": "code",
   "execution_count": null,
   "id": "younger-gibson",
   "metadata": {},
   "outputs": [],
   "source": [
    "df_nir.shape"
   ]
  },
  {
   "cell_type": "markdown",
   "id": "deluxe-muslim",
   "metadata": {},
   "source": [
    "We will build heavily off of the [interact](https://github.com/lightkurve/lightkurve/blob/main/src/lightkurve/interact.py) method from the [lightkurve](https://docs.lightkurve.org/) framework."
   ]
  },
  {
   "cell_type": "code",
   "execution_count": null,
   "id": "otherwise-russell",
   "metadata": {},
   "outputs": [],
   "source": [
    "from bokeh.io import show, output_notebook, push_notebook\n",
    "from bokeh.plotting import figure, ColumnDataSource\n",
    "from bokeh.models import (\n",
    "    LogColorMapper,\n",
    "    Slider,\n",
    "    RangeSlider,\n",
    "    Span,\n",
    "    ColorBar,\n",
    "    LogTicker,\n",
    "    Range1d,\n",
    "    LinearColorMapper,\n",
    "    BasicTicker,\n",
    ")\n",
    "from bokeh.layouts import layout, Spacer\n",
    "from bokeh.models.tools import HoverTool\n",
    "from bokeh.models.widgets import Button, Div\n",
    "from bokeh.models.formatters import PrintfTickFormatter"
   ]
  },
  {
   "cell_type": "code",
   "execution_count": null,
   "id": "going-perfume",
   "metadata": {},
   "outputs": [],
   "source": [
    "from scipy.ndimage import gaussian_filter1d"
   ]
  },
  {
   "cell_type": "code",
   "execution_count": null,
   "id": "continuing-pipeline",
   "metadata": {},
   "outputs": [],
   "source": [
    "def create_interact_ui(doc):\n",
    "    \n",
    "    # Make the spectrum source\n",
    "    spec_source = ColumnDataSource(\n",
    "        data=dict(\n",
    "            wavelength=df_nir.wavelength.values,\n",
    "            flux=gaussian_filter1d(df_nir.flux.values, 0.1),\n",
    "        )\n",
    "    )\n",
    "    \n",
    "    fig = figure(\n",
    "        title=\"Sonora Bobcat in Bokeh\",\n",
    "        plot_height=340,\n",
    "        plot_width=600,\n",
    "        tools=\"pan,wheel_zoom,box_zoom,tap,reset\",\n",
    "        toolbar_location=\"below\",\n",
    "        border_fill_color=\"whitesmoke\",\n",
    "    )\n",
    "    fig.title.offset = -10\n",
    "    fig.yaxis.axis_label = \"Flux \"\n",
    "    fig.xaxis.axis_label = \"Wavelength (micron)\"\n",
    "    ymax = df_nir.flux.max()*1.2\n",
    "    fig.y_range = Range1d(start=0, end=ymax)\n",
    "    xmin, xmax = df_nir.wavelength.min()*0.995, df_nir.wavelength.max()*1.005\n",
    "    fig.x_range = Range1d(start=xmin, end=xmax)\n",
    "\n",
    "    fig.step(\n",
    "            \"wavelength\",\n",
    "            \"flux\",\n",
    "            line_width=1,\n",
    "            color=\"gray\",\n",
    "            source=spec_source,\n",
    "            nonselection_line_color=\"gray\",\n",
    "            nonselection_line_alpha=1.0,\n",
    "        )\n",
    "    \n",
    "    # Slider to decimate the data\n",
    "    smoothing_slider = Slider(\n",
    "            start=0.1,\n",
    "            end=40,\n",
    "            value=0.1,\n",
    "            step=0.1,\n",
    "            title=\"Spectral resolution kernel\",\n",
    "            width=490\n",
    "        )\n",
    "    \n",
    "    vz_slider = Slider(\n",
    "            start=-0.009,\n",
    "            end=0.009,\n",
    "            value=0.00,\n",
    "            step=0.0005,\n",
    "            title=\"Radial Velocity\",\n",
    "            width=490,\n",
    "        format='0.000f'\n",
    "        )\n",
    "    \n",
    "    \n",
    "    def update_upon_smooth(attr, old, new):\n",
    "        \"\"\"Callback to take action when cadence slider changes\"\"\"\n",
    "        #spec_source.data[\"wavelength\"] = df_nir.wavelength.values[::new]\n",
    "        spec_source.data[\"flux\"] = gaussian_filter1d(df_nir.flux.values, new)\n",
    "        \n",
    "    def update_upon_vz(attr, old, new):\n",
    "        \"\"\"Callback to take action when cadence slider changes\"\"\"\n",
    "        spec_source.data[\"wavelength\"] = df_nir.wavelength.values - new\n",
    "        #spec_source.data[\"flux\"] = gaussian_filter1d(df_nir.flux.values, new)\n",
    "            \n",
    "        \n",
    "    smoothing_slider.on_change(\"value\", update_upon_smooth)\n",
    "    vz_slider.on_change(\"value\", update_upon_vz)\n",
    "    \n",
    "    widgets_and_figures = layout(\n",
    "            [fig],\n",
    "            [smoothing_slider],\n",
    "            [vz_slider]\n",
    "        )\n",
    "    doc.add_root(widgets_and_figures)"
   ]
  },
  {
   "cell_type": "code",
   "execution_count": null,
   "id": "known-screening",
   "metadata": {},
   "outputs": [],
   "source": [
    "output_notebook(verbose=False, hide_banner=True)\n",
    "show(create_interact_ui)"
   ]
  },
  {
   "cell_type": "markdown",
   "id": "temporal-interest",
   "metadata": {},
   "source": [
    "Woohoo, it works!"
   ]
  },
  {
   "cell_type": "code",
   "execution_count": null,
   "id": "ready-archive",
   "metadata": {},
   "outputs": [],
   "source": []
  }
 ],
 "metadata": {
  "kernelspec": {
   "display_name": "Python 3",
   "language": "python",
   "name": "python3"
  },
  "language_info": {
   "codemirror_mode": {
    "name": "ipython",
    "version": 3
   },
   "file_extension": ".py",
   "mimetype": "text/x-python",
   "name": "python",
   "nbconvert_exporter": "python",
   "pygments_lexer": "ipython3",
   "version": "3.6.12"
  }
 },
 "nbformat": 4,
 "nbformat_minor": 5
}
