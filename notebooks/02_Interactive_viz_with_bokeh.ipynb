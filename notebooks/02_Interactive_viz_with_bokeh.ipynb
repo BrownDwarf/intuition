{
 "cells": [
  {
   "cell_type": "markdown",
   "id": "macro-avatar",
   "metadata": {},
   "source": [
    "# Interactive visualization with `bokeh`\n",
    "\n",
    "Let's use the [bokeh](https://bokeh.org/) visualization library to explore the spectra."
   ]
  },
  {
   "cell_type": "code",
   "execution_count": null,
   "id": "successful-africa",
   "metadata": {},
   "outputs": [],
   "source": [
    "import numpy as np\n",
    "import pandas as pd\n",
    "import bokeh"
   ]
  },
  {
   "cell_type": "markdown",
   "id": "strategic-denver",
   "metadata": {},
   "source": [
    "Read in the model spectra same as before:"
   ]
  },
  {
   "cell_type": "code",
   "execution_count": null,
   "id": "level-graph",
   "metadata": {},
   "outputs": [],
   "source": [
    "teff_points = [500, 525, 550, 575, 600, 650, 700, 750, 800,\n",
    "            850, 900, 950,  1000, 1100, 1200, 1300, 1400, 1500, 1600, 1700,\n",
    "            1800,1900, 2000, 2100, 2200, 2300, 2400]\n",
    "logg_points = np.arange(4.0, 5.51, 0.25)"
   ]
  },
  {
   "cell_type": "code",
   "execution_count": null,
   "id": "equal-freight",
   "metadata": {},
   "outputs": [],
   "source": [
    "logg_par_dict = {4.0:\"100\",4.25:\"178\",4.5:\"316\",4.75:\"562\",\n",
    "                           5.0:\"1000\",5.25:\"1780\",5.5:\"3160\"}"
   ]
  },
  {
   "cell_type": "code",
   "execution_count": null,
   "id": "perceived-tissue",
   "metadata": {},
   "outputs": [],
   "source": [
    "teff = 1000\n",
    "logg = 5"
   ]
  },
  {
   "cell_type": "code",
   "execution_count": null,
   "id": "animated-sender",
   "metadata": {},
   "outputs": [],
   "source": [
    "base_name = \"sp_t{0:0>.0f}g{1:}nc_m0.0\".format(teff, logg_par_dict[logg])\n",
    "\n",
    "fn = '../models/spectra/'+base_name+'.gz'"
   ]
  },
  {
   "cell_type": "code",
   "execution_count": null,
   "id": "valid-identification",
   "metadata": {},
   "outputs": [],
   "source": [
    "def load_and_prep_spectrum(fn, downsample=5):\n",
    "    df_native = pd.read_csv(fn, \n",
    "                        skiprows=[0, 1], \n",
    "                        delim_whitespace=True, \n",
    "                        compression='gzip',\n",
    "                        names=['wavelength', 'flux']\n",
    "                       ).sort_values('wavelength').reset_index(drop=True)\n",
    "\n",
    "    nir_mask = (df_native.wavelength > 1.2) & (df_native.wavelength < 1.35)\n",
    "\n",
    "    ## decimate the data:\n",
    "    df_nir = df_native[nir_mask].rolling(5, win_type='gaussian').mean(std=3).iloc[::downsample, :]\n",
    "    return df_nir.dropna().reset_index(drop=True)"
   ]
  },
  {
   "cell_type": "code",
   "execution_count": null,
   "id": "secret-adult",
   "metadata": {},
   "outputs": [],
   "source": [
    "df_nir = load_and_prep_spectrum(fn)"
   ]
  },
  {
   "cell_type": "code",
   "execution_count": null,
   "id": "younger-gibson",
   "metadata": {},
   "outputs": [],
   "source": [
    "df_nir.shape"
   ]
  },
  {
   "cell_type": "markdown",
   "id": "deluxe-muslim",
   "metadata": {},
   "source": [
    "We will build heavily off of the [interact](https://github.com/lightkurve/lightkurve/blob/main/src/lightkurve/interact.py) method from the [lightkurve](https://docs.lightkurve.org/) framework."
   ]
  },
  {
   "cell_type": "code",
   "execution_count": null,
   "id": "otherwise-russell",
   "metadata": {},
   "outputs": [],
   "source": [
    "from bokeh.io import show, output_notebook, push_notebook\n",
    "from bokeh.plotting import figure, ColumnDataSource\n",
    "from bokeh.models import (\n",
    "    Slider,\n",
    "    Span,\n",
    "    Range1d,\n",
    "    Dropdown\n",
    ")\n",
    "from bokeh.layouts import layout, Spacer\n",
    "from bokeh.models.widgets import Div\n",
    "\n",
    "from scipy.ndimage import gaussian_filter1d\n",
    "from collections import OrderedDict"
   ]
  },
  {
   "cell_type": "code",
   "execution_count": null,
   "id": "smaller-trash",
   "metadata": {},
   "outputs": [],
   "source": [
    "def find_nearest(array, value):\n",
    "    array = np.asarray(array)\n",
    "    idx = (np.abs(array - value)).argmin()\n",
    "    return array[idx]"
   ]
  },
  {
   "cell_type": "code",
   "execution_count": null,
   "id": "received-scanning",
   "metadata": {},
   "outputs": [],
   "source": [
    "teff_dict = OrderedDict()"
   ]
  },
  {
   "cell_type": "code",
   "execution_count": null,
   "id": "oriental-spyware",
   "metadata": {},
   "outputs": [],
   "source": [
    "for i, teff in enumerate(teff_points):\n",
    "    teff_dict[i]=str(teff)"
   ]
  },
  {
   "cell_type": "code",
   "execution_count": null,
   "id": "steady-medication",
   "metadata": {},
   "outputs": [],
   "source": [
    "fig = figure(\n",
    "        title=\"Sonora Bobcat in Bokeh\",\n",
    "        plot_height=340,\n",
    "        plot_width=600,\n",
    "        tools=\"pan,wheel_zoom,box_zoom,tap,reset\",\n",
    "        toolbar_location=\"below\",\n",
    "        border_fill_color=\"whitesmoke\",\n",
    "    )"
   ]
  },
  {
   "cell_type": "code",
   "execution_count": null,
   "id": "isolated-attempt",
   "metadata": {},
   "outputs": [],
   "source": [
    "teff_slider = Slider(\n",
    "            start=min(teff_dict.keys()),\n",
    "            end=max(teff_dict.keys()),\n",
    "            value=10,\n",
    "            step=1,\n",
    "            title=\"Teff\",\n",
    "            width=490\n",
    "        )"
   ]
  },
  {
   "cell_type": "code",
   "execution_count": null,
   "id": "continuing-pipeline",
   "metadata": {},
   "outputs": [],
   "source": [
    "def create_interact_ui(doc):\n",
    "    \n",
    "    # Make the spectrum source\n",
    "    spec_source = ColumnDataSource(\n",
    "        data=dict(\n",
    "            wavelength=df_nir.wavelength.values,\n",
    "            flux=gaussian_filter1d(df_nir.flux.values, 0.1),\n",
    "            native_flux = df_nir.flux.values,\n",
    "            native_wavelength = df_nir.wavelength.values\n",
    "        )\n",
    "    )\n",
    "    \n",
    "    fig = figure(\n",
    "        title=\"Sonora Bobcat in Bokeh\",\n",
    "        plot_height=340,\n",
    "        plot_width=600,\n",
    "        tools=\"pan,wheel_zoom,box_zoom,tap,reset\",\n",
    "        toolbar_location=\"below\",\n",
    "        border_fill_color=\"whitesmoke\",\n",
    "    )\n",
    "    fig.title.offset = -10\n",
    "    fig.yaxis.axis_label = \"Flux \"\n",
    "    fig.xaxis.axis_label = \"Wavelength (micron)\"\n",
    "    ymax = df_nir.flux.max()*1.2\n",
    "    fig.y_range = Range1d(start=0, end=ymax)\n",
    "    xmin, xmax = df_nir.wavelength.min()*0.995, df_nir.wavelength.max()*1.005\n",
    "    fig.x_range = Range1d(start=xmin, end=xmax)\n",
    "\n",
    "    fig.step(\n",
    "            \"wavelength\",\n",
    "            \"flux\",\n",
    "            line_width=1,\n",
    "            color=\"gray\",\n",
    "            source=spec_source,\n",
    "            nonselection_line_color=\"gray\",\n",
    "            nonselection_line_alpha=1.0,\n",
    "        )\n",
    "    \n",
    "    # Slider to decimate the data\n",
    "    smoothing_slider = Slider(\n",
    "            start=0.1,\n",
    "            end=40,\n",
    "            value=0.1,\n",
    "            step=0.1,\n",
    "            title=\"Spectral resolution kernel\",\n",
    "            width=490\n",
    "        )\n",
    "    \n",
    "    vz_slider = Slider(\n",
    "            start=-0.009,\n",
    "            end=0.009,\n",
    "            value=0.00,\n",
    "            step=0.0005,\n",
    "            title=\"Radial Velocity\",\n",
    "            width=490,\n",
    "        format='0.000f'\n",
    "        )\n",
    "    \n",
    "\n",
    "    teff_slider = Slider(\n",
    "            start=min(teff_points),\n",
    "            end=max(teff_points),\n",
    "            value=1000,\n",
    "            step=25,\n",
    "            title=\"Teff\",\n",
    "            width=490\n",
    "        )\n",
    "    teff_message = Div(text=str(1000), width=100, height=10)\n",
    "    \n",
    "    logg_slider = Slider(\n",
    "            start=min(logg_points),\n",
    "            end=max(logg_points),\n",
    "            value=5.0,\n",
    "            step=0.25,\n",
    "            title=\"logg\",\n",
    "            width=490\n",
    "        )\n",
    "    \n",
    "    def update_upon_smooth(attr, old, new):\n",
    "        \"\"\"Callback to take action when smoothing slider changes\"\"\"\n",
    "        #spec_source.data[\"wavelength\"] = df_nir.wavelength.values[::new]\n",
    "        spec_source.data[\"flux\"] = gaussian_filter1d(spec_source.data[\"native_flux\"], new)\n",
    "        \n",
    "    def update_upon_vz(attr, old, new):\n",
    "        \"\"\"Callback to take action when vz slider changes\"\"\"\n",
    "        spec_source.data[\"wavelength\"] = spec_source.data[\"native_wavelength\"] - new\n",
    "        #spec_source.data[\"flux\"] = gaussian_filter1d(df_nir.flux.values, new)\n",
    "        \n",
    "    def update_upon_teff_selection(attr, old, new):\n",
    "        \"\"\"Callback to take action when teff slider changes\"\"\"\n",
    "        teff = find_nearest(teff_points, new)\n",
    "        if teff != old:\n",
    "            teff_message.text = str(new)\n",
    "            base_name = \"sp_t{0:0>.0f}g{1:}nc_m0.0\".format(np.float(teff), logg_par_dict[logg])\n",
    "\n",
    "            fn = '../models/spectra/'+base_name+'.gz'\n",
    "            df_nir = load_and_prep_spectrum(fn, downsample=5)\n",
    "            ymax = df_nir.flux.max()*1.2\n",
    "            fig.y_range.end =ymax\n",
    "            spec_source.data[\"native_wavelength\"] = df_nir.wavelength.values\n",
    "            spec_source.data[\"wavelength\"] = df_nir.wavelength.values - vz_slider.value\n",
    "            spec_source.data[\"flux\"] = gaussian_filter1d(df_nir.flux.values, smoothing_slider.value)\n",
    "            spec_source.data[\"native_flux\"] = df_nir.flux.values\n",
    "        else:\n",
    "            pass\n",
    "        \n",
    "    def update_upon_logg_selection(attr, old, new):\n",
    "        \"\"\"Callback to take action when logg slider changes\"\"\"\n",
    "        teff = find_nearest(teff_points, teff_slider.value)\n",
    "        base_name = \"sp_t{0:0>.0f}g{1:}nc_m0.0\".format(np.float(teff), logg_par_dict[new])\n",
    "\n",
    "        fn = '../models/spectra/'+base_name+'.gz'\n",
    "        df_nir = load_and_prep_spectrum(fn, downsample=5)\n",
    "        ymax = df_nir.flux.max()*1.2\n",
    "        fig.y_range.end = ymax\n",
    "        spec_source.data[\"native_wavelength\"] = df_nir.wavelength.values\n",
    "        spec_source.data[\"wavelength\"] = df_nir.wavelength.values - vz_slider.value\n",
    "        spec_source.data[\"flux\"] = gaussian_filter1d(df_nir.flux.values, smoothing_slider.value)\n",
    "        spec_source.data[\"native_flux\"] = df_nir.flux.values\n",
    "\n",
    "            \n",
    "        \n",
    "    smoothing_slider.on_change(\"value\", update_upon_smooth)\n",
    "    vz_slider.on_change(\"value\", update_upon_vz)\n",
    "    teff_slider.on_change(\"value\", update_upon_teff_selection)\n",
    "    logg_slider.on_change(\"value\", update_upon_logg_selection)\n",
    "    \n",
    "    sp1= Spacer(width=15)\n",
    "    \n",
    "    widgets_and_figures = layout(\n",
    "            [fig],\n",
    "            [teff_slider, sp1, teff_message],\n",
    "            [logg_slider],\n",
    "            [smoothing_slider],\n",
    "            [vz_slider]\n",
    "        )\n",
    "    doc.add_root(widgets_and_figures)"
   ]
  },
  {
   "cell_type": "code",
   "execution_count": null,
   "id": "known-screening",
   "metadata": {},
   "outputs": [],
   "source": [
    "output_notebook(verbose=False, hide_banner=True)\n",
    "show(create_interact_ui)"
   ]
  },
  {
   "cell_type": "markdown",
   "id": "temporal-interest",
   "metadata": {},
   "source": [
    "Woohoo, it works!"
   ]
  }
 ],
 "metadata": {
  "kernelspec": {
   "display_name": "Python 3",
   "language": "python",
   "name": "python3"
  },
  "language_info": {
   "codemirror_mode": {
    "name": "ipython",
    "version": 3
   },
   "file_extension": ".py",
   "mimetype": "text/x-python",
   "name": "python",
   "nbconvert_exporter": "python",
   "pygments_lexer": "ipython3",
   "version": "3.6.12"
  }
 },
 "nbformat": 4,
 "nbformat_minor": 5
}
